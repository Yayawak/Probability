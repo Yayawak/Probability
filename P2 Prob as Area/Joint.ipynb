{
 "cells": [
  {
   "cell_type": "code",
   "execution_count": 13,
   "id": "b06a5884-c8d9-4f5c-b11a-65b8532a9fc7",
   "metadata": {},
   "outputs": [
    {
     "data": {
      "image/png": "[encoded data removed]",
      "text/plain": [
       "<Figure size 432x432 with 1 Axes>"
      ]
     },
     "metadata": {
      "needs_background": "light"
     },
     "output_type": "display_data"
    }
   ],
   "source": [
    "import numpy as np\n",
    "import matplotlib.pyplot as plt\n",
    "\n",
    "plt.figure(figsize=[6,6])\n",
    "ax = plt.axes()\n",
    "rect1 = plt.Rectangle([0,0], 2/3, 1, fc='m', alpha=.6)\n",
    "# rect2 = plt.Rectangle([1/3,2/3], 1/3, 1, fc='m', alpha=.8)\n",
    "rect3 = plt.Rectangle([1/3,0], 2/3, 1, fc='r', alpha=.6)\n",
    "\n",
    "ax.add_patch(rect1)\n",
    "ax.add_patch(rect3)\n",
    "ax.grid()"
   ]
  }
 ],
 "metadata": {
  "kernelspec": {
   "display_name": "Python 3",
   "language": "python",
   "name": "python3"
  },
  "language_info": {
   "codemirror_mode": {
    "name": "ipython",
    "version": 3
   },
   "file_extension": ".py",
   "mimetype": "text/x-python",
   "name": "python",
   "nbconvert_exporter": "python",
   "pygments_lexer": "ipython3",
   "version": "3.8.5"
  }
 },
 "nbformat": 4,
 "nbformat_minor": 5
}
