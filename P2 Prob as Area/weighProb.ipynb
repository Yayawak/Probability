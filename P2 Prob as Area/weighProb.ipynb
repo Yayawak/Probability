{
 "cells": [
  {
   "cell_type": "code",
   "execution_count": 1,
   "id": "ebbd17e9-a55a-42be-97ef-876ec4d84632",
   "metadata": {},
   "outputs": [],
   "source": [
    "import numpy as np\n",
    "import matplotlib.pyplot as plt\n",
    "\n",
    "weight = [1,4,1,1,2,1]"
   ]
  },
  {
   "cell_type": "code",
   "execution_count": 54,
   "id": "36a3293e-4537-4c8b-94d7-38d05ff34290",
   "metadata": {},
   "outputs": [
    {
     "data": {
      "image/png": "[encoded data removed]",
      "text/plain": [
       "<Figure size 432x432 with 1 Axes>"
      ]
     },
     "metadata": {
      "needs_background": "light"
     },
     "output_type": "display_data"
    }
   ],
   "source": [
    "plt.figure(figsize=[6,6])\n",
    "ax = plt.axes()\n",
    "ax.grid()\n",
    "n = 6\n",
    "\n",
    "temp = None\n",
    "for i in range(n):\n",
    "    if temp == None :\n",
    "        rect = plt.Rectangle([0,0], (weight[i])/6, 1, fc=plt.get_cmap('viridis')(i/5))\n",
    "    else:\n",
    "        rect = plt.Rectangle([temp.get_x()+temp.get_width()/n,0], (weight[i])/6, 1, fc=plt.get_cmap('viridis')(i/5))\n",
    "\n",
    "    rect_sur = plt.Rectangle([i/n,0], 1/6, 1, fc='none', lw=5)\n",
    "    temp = rect\n",
    "    ax.add_patch(rect)\n",
    "    ax.add_patch(rect_sur)\n",
    "    ax.text(rect.get_x() + rect.get_width()/2.7, 0.5, str(i+1), fontsize=30, c='w')"
   ]
  }
 ],
 "metadata": {
  "kernelspec": {
   "display_name": "Python 3",
   "language": "python",
   "name": "python3"
  },
  "language_info": {
   "codemirror_mode": {
    "name": "ipython",
    "version": 3
   },
   "file_extension": ".py",
   "mimetype": "text/x-python",
   "name": "python",
   "nbconvert_exporter": "python",
   "pygments_lexer": "ipython3",
   "version": "3.8.5"
  }
 },
 "nbformat": 4,
 "nbformat_minor": 5
}
